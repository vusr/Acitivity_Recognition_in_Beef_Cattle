{
 "cells": [
  {
   "cell_type": "code",
   "execution_count": null,
   "id": "e0db9285-f7be-4c7a-bc3a-547c8881e9df",
   "metadata": {},
   "outputs": [],
   "source": [
    "from ultralytics import YOLO\n",
    "\n",
    "model = YOLO(\"yolo11s-cls.pt\")\n",
    "\n",
    "results = model.train(data=\"../split_dataset_6_classes/\", epochs=100, imgsz=224)\n",
    "\n",
    "results"
   ]
  },
  {
   "cell_type": "code",
   "execution_count": null,
   "id": "aefa09e3-dbe0-42d2-9449-9137fcd2ddb2",
   "metadata": {
    "scrolled": true
   },
   "outputs": [],
   "source": [
    "from ultralytics import YOLO\n",
    "import matplotlib.pyplot as plt\n",
    "import os\n",
    "from PIL import Image\n",
    "import math\n",
    "\n",
    "# Load the trained YOLO model\n",
    "model = YOLO(\"runs/classify/train/weights/best.pt\")\n",
    "\n",
    "# Path to test dataset\n",
    "test_data_path = \"../split_dataset_6_classes/test\"\n",
    "output_folder = \"prediction_plots_test_set\"  # Folder to save plots\n",
    "os.makedirs(output_folder, exist_ok=True)  # Create folder if it doesn't exist\n",
    "\n",
    "# Iterate through each class in the test dataset\n",
    "for class_name in os.listdir(test_data_path):\n",
    "    class_path = os.path.join(test_data_path, class_name)\n",
    "    if not os.path.isdir(class_path):\n",
    "        continue  # Skip non-directory entries\n",
    "    \n",
    "    # Get all images in the current class directory\n",
    "    images = [os.path.join(class_path, img) for img in os.listdir(class_path) if img.endswith(('.png', '.jpg', '.jpeg'))]\n",
    "    \n",
    "    # Determine grid size\n",
    "    num_images = len(images)\n",
    "    num_cols = 4\n",
    "    num_rows = math.ceil(num_images / num_cols)\n",
    "    \n",
    "    # Create a figure for the class\n",
    "    plt.figure(figsize=(15, 5 * num_rows))\n",
    "    plt.suptitle(f\"Class: {class_name}\", fontsize=16)\n",
    "    \n",
    "    # Plot each image\n",
    "    for idx, img_path in enumerate(images):\n",
    "        img = Image.open(img_path)\n",
    "        pred = model.predict(source=img, imgsz=224, verbose=False)  # Predict class\n",
    "        \n",
    "        # Extract predicted class\n",
    "        pred_class = pred[0].probs.top1\n",
    "        pred_conf = pred[0].probs.top1conf.item()\n",
    "        pred_label = model.names[pred_class]\n",
    "        \n",
    "        # Determine title color based on correctness\n",
    "        title_color = \"green\" if pred_label == class_name else \"red\"\n",
    "        \n",
    "        # Display image and prediction\n",
    "        plt.subplot(num_rows, num_cols, idx + 1)\n",
    "        plt.imshow(img)\n",
    "        plt.title(f\"Pred: {pred_label} ({pred_conf:.2f})\", fontsize=10, color=title_color)\n",
    "        plt.axis('off')\n",
    "    \n",
    "    # Adjust layout and save the plot\n",
    "    plt.tight_layout(rect=[0, 0, 1, 0.95])  # Leave space for title\n",
    "    output_path = os.path.join(output_folder, f\"{class_name}_plot.png\")\n",
    "    plt.savefig(output_path)  # Save the figure\n",
    "    plt.show()\n",
    "    plt.close()  # Close the figure to free memory"
   ]
  },
  {
   "cell_type": "code",
   "execution_count": null,
   "id": "afcbf33c-8c2c-4dd7-9aa3-5e6b67bf6cf5",
   "metadata": {},
   "outputs": [],
   "source": []
  }
 ],
 "metadata": {
  "kernelspec": {
   "display_name": "Python 3 (ipykernel)",
   "language": "python",
   "name": "python3"
  },
  "language_info": {
   "codemirror_mode": {
    "name": "ipython",
    "version": 3
   },
   "file_extension": ".py",
   "mimetype": "text/x-python",
   "name": "python",
   "nbconvert_exporter": "python",
   "pygments_lexer": "ipython3",
   "version": "3.12.7"
  }
 },
 "nbformat": 4,
 "nbformat_minor": 5
}
